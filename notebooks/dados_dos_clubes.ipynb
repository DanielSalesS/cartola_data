{
 "cells": [
  {
   "cell_type": "markdown",
   "metadata": {},
   "source": [
    "# Obter dados dos clubes."
   ]
  },
  {
   "cell_type": "code",
   "execution_count": 1,
   "metadata": {},
   "outputs": [],
   "source": [
    "import json\n",
    "import path_config\n",
    "from cartola.api import ApiClient\n",
    "from cartola.processdata import Clubs\n",
    "from cartola.cartola_settings import club_ids"
   ]
  },
  {
   "cell_type": "markdown",
   "metadata": {},
   "source": [
    "## Pegando os dados da APi"
   ]
  },
  {
   "cell_type": "code",
   "execution_count": 2,
   "metadata": {},
   "outputs": [],
   "source": [
    "api_cartola = ApiClient(url='https://api.cartolafc.globo.com/clubes')\n",
    "club_info = api_cartola.get_json()"
   ]
  },
  {
   "cell_type": "markdown",
   "metadata": {},
   "source": [
    "## Manipulando os dados"
   ]
  },
  {
   "cell_type": "code",
   "execution_count": 3,
   "metadata": {},
   "outputs": [],
   "source": [
    "club_data = Clubs(json_data=club_info)\n",
    "\n",
    "# Dados desejados\n",
    "target_data = ['id', 'nome', 'abreviacao', 'nome_fantasia']\n",
    "\n",
    "# Obtém os dados desejados.\n",
    "club_data.club_information(club_ids=club_ids, target_data=target_data)"
   ]
  },
  {
   "cell_type": "markdown",
   "metadata": {},
   "source": [
    "## Salvando os dados"
   ]
  },
  {
   "cell_type": "code",
   "execution_count": 4,
   "metadata": {},
   "outputs": [],
   "source": [
    "#Caminho de um diretório qualquer.\n",
    "dir_path = r'clubes'"
   ]
  },
  {
   "cell_type": "code",
   "execution_count": 5,
   "metadata": {},
   "outputs": [],
   "source": [
    "# Salva dos dados no formato json.\n",
    "club_data.save_as_json(path=dir_path + r'/dados_dos_clubes.json')"
   ]
  },
  {
   "cell_type": "code",
   "execution_count": 6,
   "metadata": {},
   "outputs": [],
   "source": [
    "# Salva dos dados no formato csv.\n",
    "club_data.save_as_csv(path=dir_path + r'/dados_dos_clubes.csv')"
   ]
  },
  {
   "cell_type": "markdown",
   "metadata": {},
   "source": [
    "clubes/dados_dos_clubes.csv\n",
    "\n",
    "|id |nome         |abreviacao|nome_fantasia|\n",
    "|---|-------------|----------|-------------|\n",
    "|262|Flamengo     |FLA       |Flamengo     |\n",
    "|263|Botafogo     |BOT       |Botafogo     |\n",
    "|264|Corinthians  |COR       |Corinthians  |\n",
    "|265|Bahia        |BAH       |Bahia        |\n",
    "|266|Fluminense   |FLU       |Fluminense   |\n",
    "|267|Vasco        |VAS       |Vasco        |\n",
    "|275|Palmeiras    |PAL       |Palmeiras    |\n",
    "|276|São Paulo    |SAO       |São Paulo    |\n",
    "|277|Santos       |SAN       |Santos       |\n",
    "|280|Bragantino   |BGT       |Bragantino   |\n",
    "|282|Atlético-MG  |CAM       |Atlético-MG  |\n",
    "|284|Grêmio       |GRE       |Grêmio       |\n",
    "|285|Internacional|INT       |Internacional|\n",
    "|290|Goiás        |GOI       |Goiás        |\n",
    "|292|Sport        |SPT       |Sport        |\n",
    "|293|Athlético-PR |CAP       |Athlético-PR |\n",
    "|294|Coritiba     |CFC       |Coritiba     |\n",
    "|354|Ceará        |CEA       |Ceará        |\n",
    "|356|Fortaleza    |FOR       |Fortaleza    |\n",
    "|373|Atlético-GO  |ACG       |Atlético-GO  |\n"
   ]
  },
  {
   "cell_type": "code",
   "execution_count": null,
   "metadata": {},
   "outputs": [],
   "source": []
  }
 ],
 "metadata": {
  "kernelspec": {
   "display_name": "Python 3",
   "language": "python",
   "name": "python3"
  },
  "language_info": {
   "codemirror_mode": {
    "name": "ipython",
    "version": 3
   },
   "file_extension": ".py",
   "mimetype": "text/x-python",
   "name": "python",
   "nbconvert_exporter": "python",
   "pygments_lexer": "ipython3",
   "version": "3.8.5"
  }
 },
 "nbformat": 4,
 "nbformat_minor": 4
}
