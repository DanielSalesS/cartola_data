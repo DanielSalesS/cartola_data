{
 "cells": [
  {
   "cell_type": "markdown",
   "metadata": {},
   "source": [
    "# APIClient\n",
    "\n",
    "\n",
    "\n"
   ]
  },
  {
   "cell_type": "code",
   "execution_count": 19,
   "metadata": {},
   "outputs": [],
   "source": [
    "import path_config\n",
    "from cartola.api import ApiClient\n",
    "from cartola.cartola_settings import dynamic_api, fixed_api\n"
   ]
  },
  {
   "cell_type": "markdown",
   "metadata": {},
   "source": [
    "## Endpoints do Cartola \n",
    "Endpoints que não necessitam de autenticação."
   ]
  },
  {
   "cell_type": "code",
   "execution_count": 18,
   "metadata": {
    "scrolled": true
   },
   "outputs": [
    {
     "name": "stdout",
     "output_type": "stream",
     "text": [
      "Dados atualizados a cada rodada:\n",
      "https://api.cartolafc.globo.com/mercado/status\n",
      "https://api.cartolafc.globo.com/atletas/mercado\n",
      "https://api.cartolafc.globo.com/mercado/destaques\n",
      "https://api.cartolafc.globo.com/atletas/pontuados\n",
      "https://api.cartolafc.globo.com/pos-rodada/destaques\n",
      "https://api.cartolafc.globo.com/partidas\n",
      "\n",
      "Dados fixos:\n",
      "https://api.cartolafc.globo.com/clubes\n",
      "https://api.cartolafc.globo.com/patrocinadores\n",
      "https://api.cartolafc.globo.com/rodadas\n"
     ]
    }
   ],
   "source": [
    "print(\"Dados atualizados a cada rodada:\")\n",
    "_=[print(endpoint) for endpoint in dynamic_api.values()]\n",
    "\n",
    "print(\"\\nDados fixos:\")\n",
    "_=[print(endpoint) for endpoint in fixed_api.values()]"
   ]
  },
  {
   "cell_type": "markdown",
   "metadata": {},
   "source": [
    "## Iniciando...\n"
   ]
  },
  {
   "cell_type": "code",
   "execution_count": 4,
   "metadata": {},
   "outputs": [
    {
     "name": "stdout",
     "output_type": "stream",
     "text": [
      "Endpoint da Api:\n",
      "https://api.cartolafc.globo.com/mercado/status\n"
     ]
    },
    {
     "data": {
      "text/plain": [
       "<cartola.api.ApiClient at 0x25df1f0f948>"
      ]
     },
     "execution_count": 4,
     "metadata": {},
     "output_type": "execute_result"
    }
   ],
   "source": [
    "url=dynamic_api['status']\n",
    "print('Endpoint da Api:')\n",
    "print(url)\n",
    "status = ApiClient(url=url)\n",
    "status\n",
    "\n"
   ]
  },
  {
   "cell_type": "markdown",
   "metadata": {},
   "source": [
    "## Obter dados no formato Json."
   ]
  },
  {
   "cell_type": "code",
   "execution_count": 5,
   "metadata": {
    "scrolled": false
   },
   "outputs": [
    {
     "data": {
      "text/plain": [
       "{'rodada_atual': 26,\n",
       " 'status_mercado': 1,\n",
       " 'esquema_default_id': 4,\n",
       " 'cartoleta_inicial': 100,\n",
       " 'max_ligas_free': 1,\n",
       " 'max_ligas_pro': 7,\n",
       " 'max_ligas_matamata_free': 5,\n",
       " 'max_ligas_matamata_pro': 7,\n",
       " 'max_ligas_patrocinadas_free': 2,\n",
       " 'max_ligas_patrocinadas_pro_num': 2,\n",
       " 'game_over': False,\n",
       " 'temporada': 2020,\n",
       " 'reativar': False,\n",
       " 'exibe_sorteio_pro': False,\n",
       " 'times_escalados': 1126013,\n",
       " 'fechamento': {'dia': 19,\n",
       "  'mes': 12,\n",
       "  'ano': 2020,\n",
       "  'hora': 18,\n",
       "  'minuto': 0,\n",
       "  'timestamp': 1608411600},\n",
       " 'mercado_pos_rodada': False,\n",
       " 'limites_competicao': {'total_confronto_pro': 7,\n",
       "  'total_confronto_free': 3,\n",
       "  'criacao_confronto_pro': 7,\n",
       "  'criacao_confronto_free': 1}}"
      ]
     },
     "execution_count": 5,
     "metadata": {},
     "output_type": "execute_result"
    }
   ],
   "source": [
    "status.get_json()"
   ]
  },
  {
   "cell_type": "markdown",
   "metadata": {},
   "source": [
    "## Pegar dados pela chave."
   ]
  },
  {
   "cell_type": "code",
   "execution_count": 6,
   "metadata": {
    "scrolled": true
   },
   "outputs": [
    {
     "name": "stdout",
     "output_type": "stream",
     "text": [
      "Rodada Atual: 26\n",
      "\n"
     ]
    }
   ],
   "source": [
    "rodada_atual = status.get_data_by_key(key='rodada_atual')\n",
    "print(f'Rodada Atual: {rodada_atual}\\n')"
   ]
  },
  {
   "cell_type": "code",
   "execution_count": 8,
   "metadata": {},
   "outputs": [
    {
     "name": "stdout",
     "output_type": "stream",
     "text": [
      "status_mercado: 1\n",
      "\n"
     ]
    }
   ],
   "source": [
    "status_mercado = status.get_data_by_key(key='status_mercado')\n",
    "print(f'status_mercado: {status_mercado}\\n')"
   ]
  },
  {
   "cell_type": "code",
   "execution_count": 10,
   "metadata": {},
   "outputs": [
    {
     "name": "stdout",
     "output_type": "stream",
     "text": [
      "times_escalados: 1126013\n",
      "\n"
     ]
    }
   ],
   "source": [
    "times_escalados = status.get_data_by_key(key='times_escalados')\n",
    "print(f'times_escalados: {times_escalados}\\n')"
   ]
  },
  {
   "cell_type": "markdown",
   "metadata": {},
   "source": [
    "## Salvar arquivo Json."
   ]
  },
  {
   "cell_type": "code",
   "execution_count": 61,
   "metadata": {},
   "outputs": [
    {
     "name": "stdout",
     "output_type": "stream",
     "text": [
      "\n",
      "Dados salvos em: json_files/rodada26\n"
     ]
    }
   ],
   "source": [
    "dir_path = fr'json_files/rodada{rodada_atual}'\n",
    "status.save_as_json(dir_path=dir_path, round=rodada_atual)\n",
    "print(f\"\\nDados salvos em: {dir_path}\")"
   ]
  }
 ],
 "metadata": {
  "kernelspec": {
   "display_name": "Python 3",
   "language": "python",
   "name": "python3"
  },
  "language_info": {
   "codemirror_mode": {
    "name": "ipython",
    "version": 3
   },
   "file_extension": ".py",
   "mimetype": "text/x-python",
   "name": "python",
   "nbconvert_exporter": "python",
   "pygments_lexer": "ipython3",
   "version": "3.8.5"
  }
 },
 "nbformat": 4,
 "nbformat_minor": 4
}
